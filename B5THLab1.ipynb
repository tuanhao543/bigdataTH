{
 "cells": [
  {
   "cell_type": "code",
   "execution_count": 21,
   "id": "1e7b5948-ad56-41c6-b111-6c9aaa67c8fa",
   "metadata": {},
   "outputs": [
    {
     "name": "stdout",
     "output_type": "stream",
     "text": [
      "The watermark extension is already loaded. To reload it, use:\n",
      "  %reload_ext watermark\n"
     ]
    }
   ],
   "source": [
    "%load_ext watermark"
   ]
  },
  {
   "cell_type": "code",
   "execution_count": 22,
   "id": "d499f88a-2f6a-4fe1-97bf-8735a02b003d",
   "metadata": {},
   "outputs": [
    {
     "name": "stdout",
     "output_type": "stream",
     "text": [
      "Author: Nguyen Tuan Hao\n",
      "\n",
      "Last updated: 2023-11-23\n",
      "\n",
      "Python implementation: CPython\n",
      "Python version       : 3.10.12\n",
      "IPython version      : 8.17.2\n",
      "\n"
     ]
    }
   ],
   "source": [
    "%watermark -a 'Nguyen Tuan Hao' -u -d -v"
   ]
  },
  {
   "cell_type": "code",
   "execution_count": 24,
   "id": "b2633f9a-9efe-43dc-8d9b-a671e4a7ca2e",
   "metadata": {},
   "outputs": [
    {
     "data": {
      "text/plain": [
       "61718919684569578491413213041485295656"
      ]
     },
     "execution_count": 24,
     "metadata": {},
     "output_type": "execute_result"
    }
   ],
   "source": [
    "import hashlib\n",
    "\n",
    "h1 = hashlib.md5()\n",
    "h1.update('chao_thay'.encode('utf-8'))\n",
    "int(h1.hexdigest(), 16)"
   ]
  },
  {
   "cell_type": "code",
   "execution_count": 25,
   "id": "84497e34-53bd-4145-9ad7-7e9b4ad55b42",
   "metadata": {},
   "outputs": [
    {
     "data": {
      "text/plain": [
       "290692531095639546528433135005690282664"
      ]
     },
     "execution_count": 25,
     "metadata": {},
     "output_type": "execute_result"
    }
   ],
   "source": [
    "h1.update('chao_thay'.encode('utf-8'))\n",
    "int(h1.hexdigest(), 16)"
   ]
  },
  {
   "cell_type": "code",
   "execution_count": 33,
   "id": "49851e0f-cb94-436a-b59b-af2bd1e2cd6a",
   "metadata": {},
   "outputs": [
    {
     "data": {
      "text/plain": [
       "61718919684569578491413213041485295656"
      ]
     },
     "execution_count": 33,
     "metadata": {},
     "output_type": "execute_result"
    }
   ],
   "source": [
    "int(hashlib.new('md5', ('%s' % 'chao_thay').encode('utf-8')).hexdigest(), 16)"
   ]
  },
  {
   "cell_type": "code",
   "execution_count": 34,
   "id": "2b3b3e17-dfd2-47a1-9477-0c2dff31353b",
   "metadata": {},
   "outputs": [
    {
     "data": {
      "text/plain": [
       "61718919684569578491413213041485295656"
      ]
     },
     "execution_count": 34,
     "metadata": {},
     "output_type": "execute_result"
    }
   ],
   "source": [
    "int(hashlib.new('md5', ('%s' % 'chao_thay').encode('utf-8')).hexdigest(), 16)"
   ]
  },
  {
   "cell_type": "code",
   "execution_count": 14,
   "id": "64cabad1-4a9b-4b1d-8523-db7cf95e4177",
   "metadata": {},
   "outputs": [],
   "source": [
    "class BloomFilter():\n",
    "    def __init__(self, array_size, hash_names):\n",
    "        self.array_size = array_size\n",
    "        self.bitarray = [0] * array_size\n",
    "        self.hash_names = hash_names\n",
    "        \n",
    "    def _get_hash_positions(self, value):\n",
    "        pos = []\n",
    "        for h in self.hash_names:\n",
    "            hash_hex = hashlib.new(h, ('%s' % value).encode('utf-8')).hexdigest()\n",
    "            # convert hashed value into an integer\n",
    "            asint = int(hash_hex, 16)\n",
    "            # modulo array_size to fit hash value into the bitarray\n",
    "            pos.append(asint % self.array_size)\n",
    "        return pos\n",
    "        \n",
    "    def add(self, value):\n",
    "        hash_pos = self._get_hash_positions(value)\n",
    "        for pos in hash_pos:\n",
    "            self.bitarray[pos] = 1\n",
    "        \n",
    "    def query(self, value):\n",
    "        hash_pos = self._get_hash_positions(value)\n",
    "        for pos in hash_pos:\n",
    "            if not self.bitarray[pos]:\n",
    "                return False\n",
    "        return True\n"
   ]
  },
  {
   "cell_type": "code",
   "execution_count": 35,
   "id": "caa06876-6cc2-4606-b1ea-dad0409ee91f",
   "metadata": {},
   "outputs": [
    {
     "data": {
      "text/plain": [
       "[0, 0, 0, 0, 0, 0, 0, 0, 0, 0]"
      ]
     },
     "execution_count": 35,
     "metadata": {},
     "output_type": "execute_result"
    }
   ],
   "source": [
    "bloom = BloomFilter(array_size=10, hash_names=('md5', 'sha1'))\n",
    "bloom.bitarray"
   ]
  },
  {
   "cell_type": "code",
   "execution_count": 27,
   "id": "3293d36d-1855-4f27-84a1-bdf24bc5ff1c",
   "metadata": {},
   "outputs": [
    {
     "data": {
      "text/plain": [
       "[1, 1, 0, 1, 0, 1, 1, 1, 0, 1]"
      ]
     },
     "execution_count": 27,
     "metadata": {},
     "output_type": "execute_result"
    }
   ],
   "source": [
    "bloom.add('lam bai nhanh!')\n",
    "bloom.bitarray"
   ]
  },
  {
   "cell_type": "code",
   "execution_count": 28,
   "id": "2a61ec4f-7647-44ef-870b-5b5b12e63639",
   "metadata": {},
   "outputs": [
    {
     "data": {
      "text/plain": [
       "True"
      ]
     },
     "execution_count": 28,
     "metadata": {},
     "output_type": "execute_result"
    }
   ],
   "source": [
    "bloom.query('lam bai nhanh!')"
   ]
  },
  {
   "cell_type": "code",
   "execution_count": 29,
   "id": "821bcdae-4ba8-4779-a6cf-a12667a5410d",
   "metadata": {},
   "outputs": [
    {
     "data": {
      "text/plain": [
       "[1, 1, 0, 1, 0, 1, 1, 1, 0, 1]"
      ]
     },
     "execution_count": 29,
     "metadata": {},
     "output_type": "execute_result"
    }
   ],
   "source": [
    "bloom.add('Lab 1')\n",
    "bloom.bitarray"
   ]
  },
  {
   "cell_type": "code",
   "execution_count": 30,
   "id": "44c5c0b0-1551-4f62-acd6-8e5a2af6c6df",
   "metadata": {},
   "outputs": [
    {
     "data": {
      "text/plain": [
       "True"
      ]
     },
     "execution_count": 30,
     "metadata": {},
     "output_type": "execute_result"
    }
   ],
   "source": [
    "bloom.query('Lab 1')"
   ]
  },
  {
   "cell_type": "code",
   "execution_count": 32,
   "id": "48ae5bf9-b255-4925-8563-a6590391392d",
   "metadata": {},
   "outputs": [
    {
     "data": {
      "text/plain": [
       "False"
      ]
     },
     "execution_count": 32,
     "metadata": {},
     "output_type": "execute_result"
    }
   ],
   "source": [
    "bloom.query('test')"
   ]
  },
  {
   "cell_type": "code",
   "execution_count": null,
   "id": "62dce00a-4d7d-4386-b8a8-6e173650edce",
   "metadata": {},
   "outputs": [],
   "source": []
  }
 ],
 "metadata": {
  "kernelspec": {
   "display_name": "Python 3 (ipykernel)",
   "language": "python",
   "name": "python3"
  },
  "language_info": {
   "codemirror_mode": {
    "name": "ipython",
    "version": 3
   },
   "file_extension": ".py",
   "mimetype": "text/x-python",
   "name": "python",
   "nbconvert_exporter": "python",
   "pygments_lexer": "ipython3",
   "version": "3.10.12"
  }
 },
 "nbformat": 4,
 "nbformat_minor": 5
}
