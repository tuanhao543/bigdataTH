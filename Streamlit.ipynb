{
 "cells": [
  {
   "cell_type": "code",
   "execution_count": 2,
   "id": "e952b6ea-6350-4ed8-ac2c-87c95cf196e0",
   "metadata": {},
   "outputs": [
    {
     "data": {
      "text/plain": [
       "1"
      ]
     },
     "execution_count": 2,
     "metadata": {},
     "output_type": "execute_result"
    }
   ],
   "source": [
    "import streamlit as st\n",
    "st.text('Hello from Streamlit')\n",
    "st.button('Hit me')\n",
    "st.checkbox('Check me out')\n",
    "st.radio('Radio',[1,2,3])\n",
    "st.selectbox(\"Select\", [1,2,3])"
   ]
  },
  {
   "cell_type": "code",
   "execution_count": 4,
   "id": "6a4691f1-b693-42a4-bb8a-4d03109a88b2",
   "metadata": {},
   "outputs": [],
   "source": [
    "from vega_datasets import data\n",
    "import streamlit as st \n",
    "import altair as alt\n",
    "def main():\n",
    "    df = load_data()\n",
    "    page = st.sidebar.selectbox(\"Choose a page\", [\"Homepage\", \"Exploration\"])\n",
    "\n",
    "    if page == \"Homepage\":\n",
    "        st.header(\"This is your data explorer.\")\n",
    "        st.write(\"Please select a page on the left.\")\n",
    "        st.write(df)\n",
    "    elif page == \"Exploration\":\n",
    "        st.title(\"Data Exploration\")\n",
    "        x_axis = st.selectbox(\"Choose a variable for the x-axis\", df.columns, index=3)\n",
    "        y_axis = st.selectbox(\"Choose a variable for the y-axis\", df.columns, index=4)\n",
    "        visualize_data(df, x_axis, y_axis)"
   ]
  },
  {
   "cell_type": "code",
   "execution_count": null,
   "id": "fe3c8cb3-8544-4e12-839f-85eb9ab3f89c",
   "metadata": {},
   "outputs": [],
   "source": []
  }
 ],
 "metadata": {
  "kernelspec": {
   "display_name": "Python 3 (ipykernel)",
   "language": "python",
   "name": "python3"
  },
  "language_info": {
   "codemirror_mode": {
    "name": "ipython",
    "version": 3
   },
   "file_extension": ".py",
   "mimetype": "text/x-python",
   "name": "python",
   "nbconvert_exporter": "python",
   "pygments_lexer": "ipython3",
   "version": "3.10.12"
  }
 },
 "nbformat": 4,
 "nbformat_minor": 5
}
